{
 "metadata": {
  "name": "",
  "signature": "sha256:88226f7bec6a12d27a8ba04743f0fdcbd3777a243ff8d30b827330c3c1a0775b"
 },
 "nbformat": 3,
 "nbformat_minor": 0,
 "worksheets": [
  {
   "cells": [
    {
     "cell_type": "markdown",
     "metadata": {},
     "source": [
      "Enumerate eligible glide strings (EGS).  An EGS is a string of m ones and n zeros such that 2^(n-1) < 3^m < 2^n and satisfies the prefix property and the '10' property."
     ]
    },
    {
     "cell_type": "code",
     "collapsed": false,
     "input": [
      "import math\n",
      "\n",
      "def iterate_egs(length):\n",
      "    '''\n",
      "    :param length:  the number of divisions by 2 represented in the string\n",
      "    '''\n",
      "    if int(length) != length or length < 1:\n",
      "        raise ValueError('length must be a positive integer')\n",
      "    if length == 1:\n",
      "        yield '0'\n",
      "        return\n",
      "\n",
      "    n = length\n",
      "    m = int(math.log(2**n, 3))\n",
      "    if 2**(n-1) > 3**m:\n",
      "        return\n",
      "    \n",
      "    def _egs(prefix):\n",
      "        _m = prefix.count('1')\n",
      "        _n = prefix.count('0')\n",
      "        \n",
      "        if _m == m:\n",
      "            yield prefix + '0'*(n-_n)\n",
      "        else:\n",
      "            # can always multiply\n",
      "            for egs in _egs(prefix+'10'):\n",
      "                yield egs\n",
      "            # can you divide here\n",
      "            if 2**(_n+1) < 3**_m:\n",
      "                for egs in _egs(prefix+'0'):\n",
      "                    yield egs\n",
      "        \n",
      "    for s in _egs('10'):\n",
      "        yield s"
     ],
     "language": "python",
     "metadata": {},
     "outputs": [],
     "prompt_number": 11
    },
    {
     "cell_type": "code",
     "collapsed": false,
     "input": [
      "for length in range(1, 9):\n",
      "    for egs in iterate_egs(length):\n",
      "        print egs"
     ],
     "language": "python",
     "metadata": {},
     "outputs": [
      {
       "output_type": "stream",
       "stream": "stdout",
       "text": [
        "0\n",
        "100\n",
        "101000\n",
        "10101000\n",
        "10100100\n",
        "10101010000\n",
        "10101001000\n",
        "10100101000\n",
        "1010101010000\n",
        "1010101001000\n",
        "1010101000100\n",
        "1010100101000\n",
        "1010100100100\n",
        "1010010101000\n",
        "1010010100100\n"
       ]
      }
     ],
     "prompt_number": 16
    },
    {
     "cell_type": "code",
     "collapsed": false,
     "input": [
      "# generate http://oeis.org/A100982\n",
      "for i in range(1, 33):\n",
      "    print sum(1 for _ in iterate_egs(i))"
     ],
     "language": "python",
     "metadata": {},
     "outputs": [
      {
       "output_type": "stream",
       "stream": "stdout",
       "text": [
        "1\n",
        "1\n",
        "0\n",
        "1\n",
        "2\n",
        "0\n",
        "3\n",
        "7\n",
        "0\n",
        "12\n",
        "0\n",
        "30\n",
        "85\n",
        "0\n",
        "173\n",
        "476\n",
        "0\n",
        "961\n",
        "0\n",
        "2652\n",
        "8045"
       ]
      },
      {
       "output_type": "stream",
       "stream": "stdout",
       "text": [
        "\n",
        "0\n",
        "17637"
       ]
      },
      {
       "output_type": "stream",
       "stream": "stdout",
       "text": [
        "\n",
        "51033"
       ]
      },
      {
       "output_type": "stream",
       "stream": "stdout",
       "text": [
        "\n",
        "0\n",
        "108950"
       ]
      },
      {
       "output_type": "stream",
       "stream": "stdout",
       "text": [
        "\n",
        "312455"
       ]
      },
      {
       "output_type": "stream",
       "stream": "stdout",
       "text": [
        "\n",
        "0\n",
        "663535"
       ]
      },
      {
       "output_type": "stream",
       "stream": "stdout",
       "text": [
        "\n",
        "0\n",
        "1900470"
       ]
      },
      {
       "output_type": "stream",
       "stream": "stdout",
       "text": [
        "\n",
        "5936673"
       ]
      },
      {
       "output_type": "stream",
       "stream": "stdout",
       "text": [
        "\n"
       ]
      }
     ],
     "prompt_number": 29
    },
    {
     "cell_type": "code",
     "collapsed": false,
     "input": [],
     "language": "python",
     "metadata": {},
     "outputs": []
    }
   ],
   "metadata": {}
  }
 ]
}